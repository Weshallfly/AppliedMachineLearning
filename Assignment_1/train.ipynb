{
  "cells": [
    {
      "cell_type": "markdown",
      "source": [
        "# Loading Datasets"
      ],
      "metadata": {
        "id": "lenQVSvcP5LQ"
      },
      "id": "lenQVSvcP5LQ"
    },
    {
      "cell_type": "code",
      "source": [
        "import pandas as pd\n",
        "\n",
        "train_df = pd.read_csv('/content/train.csv')\n",
        "test_df = pd.read_csv('/content/test.csv')\n",
        "val_df = pd.read_csv('/content/validation.csv')"
      ],
      "metadata": {
        "id": "PDSNzGBqPeai"
      },
      "id": "PDSNzGBqPeai",
      "execution_count": 7,
      "outputs": []
    },
    {
      "cell_type": "markdown",
      "source": [
        "## Preparing dataset for training"
      ],
      "metadata": {
        "id": "d56pvGzcWiDs"
      },
      "id": "d56pvGzcWiDs"
    },
    {
      "cell_type": "code",
      "source": [
        "# Define features (X) and labels (y) for train, test, and validation\n",
        "X_train = train_df['preprocessed_message']\n",
        "y_train = train_df['label']\n",
        "X_test = test_df['preprocessed_message']\n",
        "y_test = test_df['label']\n",
        "X_val = val_df['preprocessed_message']\n",
        "y_val = val_df['label']"
      ],
      "metadata": {
        "id": "jJt-H72TRd1r"
      },
      "id": "jJt-H72TRd1r",
      "execution_count": 8,
      "outputs": []
    },
    {
      "cell_type": "code",
      "source": [
        "# Vectorizing X-datasets\n",
        "from sklearn.feature_extraction.text import CountVectorizer\n",
        "vectorizer = CountVectorizer()\n",
        "\n",
        "# Replace NaN values with empty strings\n",
        "X_train = X_train.fillna('')\n",
        "X_test = X_test.fillna('')\n",
        "X_val = X_val.fillna('')\n",
        "\n",
        "# Now apply CountVectorizer\n",
        "X_train_vectorized = vectorizer.fit_transform(X_train)\n",
        "X_test_vectorized = vectorizer.transform(X_test)\n",
        "X_val_vectorized = vectorizer.transform(X_val)\n"
      ],
      "metadata": {
        "id": "lkqf_yXiRqWT"
      },
      "id": "lkqf_yXiRqWT",
      "execution_count": 10,
      "outputs": []
    },
    {
      "cell_type": "markdown",
      "id": "f077e113-6467-429f-b38e-e001274079fa",
      "metadata": {
        "id": "f077e113-6467-429f-b38e-e001274079fa"
      },
      "source": [
        "## Model-1 Naive Bayes Classifier"
      ]
    },
    {
      "cell_type": "code",
      "execution_count": null,
      "id": "e11f0012-3073-4355-b48c-0a908b08baf7",
      "metadata": {
        "id": "e11f0012-3073-4355-b48c-0a908b08baf7",
        "outputId": "114128fa-14e5-405a-ca2b-02a4cc52b63f"
      },
      "outputs": [
        {
          "name": "stdout",
          "output_type": "stream",
          "text": [
            "Accuracy: 0.9895287958115183\n",
            "Confusion Matrix:\n",
            "[[851   5]\n",
            " [  7 283]]\n"
          ]
        }
      ],
      "source": [
        "# Train the Naive Bayes classifier\n",
        "from sklearn.naive_bayes import MultinomialNB\n",
        "from sklearn.metrics import accuracy_score, confusion_matrix, precison_score\n",
        "\n",
        "classifier = MultinomialNB()\n",
        "classifier.fit(X_train, y_train)\n",
        "\n",
        "# Predict labels for the test set\n",
        "y_pred = classifier.predict(X_test)\n",
        "\n",
        "# Calculate accuracy\n",
        "accuracy = accuracy_score(y_test, y_pred)\n",
        "print(\"Accuracy:\", accuracy)\n",
        "\n",
        "# Confusion matrix\n",
        "conf_matrix = confusion_matrix(y_test, y_pred)\n",
        "print(\"Confusion Matrix:\")\n",
        "print(conf_matrix)"
      ]
    },
    {
      "cell_type": "code",
      "source": [
        "# Calculate Precison\n",
        "precison = precison_score(y_test, y_pred)\n",
        "print(\"Precison:\", precison)"
      ],
      "metadata": {
        "colab": {
          "base_uri": "https://localhost:8080/"
        },
        "id": "SBTfCqW8UCO2",
        "outputId": "2eee8a2e-0c40-49c2-8d63-dfb8496ee751"
      },
      "id": "SBTfCqW8UCO2",
      "execution_count": 16,
      "outputs": [
        {
          "output_type": "stream",
          "name": "stdout",
          "text": [
            "Precison: 0.98262836548762\n"
          ]
        }
      ]
    },
    {
      "cell_type": "markdown",
      "id": "23e4c4c7-a2e4-459b-9773-8bf3ac8a7ea5",
      "metadata": {
        "id": "23e4c4c7-a2e4-459b-9773-8bf3ac8a7ea5"
      },
      "source": [
        "## Model 2-- SVM Classifire"
      ]
    },
    {
      "cell_type": "code",
      "execution_count": null,
      "id": "b62c7d52-77f0-4738-8126-ca13309bbac6",
      "metadata": {
        "id": "b62c7d52-77f0-4738-8126-ca13309bbac6",
        "outputId": "fa1f2a75-c1fa-45cb-ad43-e226d21a8fff"
      },
      "outputs": [
        {
          "name": "stdout",
          "output_type": "stream",
          "text": [
            "SVM Classifier Accuracy: 0.9790575916230366\n",
            "SVM Classifier Confusion Matrix:\n",
            "[[853   3]\n",
            " [ 21 269]]\n"
          ]
        }
      ],
      "source": [
        "from sklearn.svm import SVC\n",
        "\n",
        "# Train the SVM classifier\n",
        "classifier_svm = SVC(kernel='rbf')\n",
        "classifier_svm.fit(X_train, y_train)\n",
        "\n",
        "# Predict labels for the test set\n",
        "y_pred_svm = classifier_svm.predict(X_test)\n",
        "\n",
        "# Calculate accuracy\n",
        "accuracy_svm = accuracy_score(y_test, y_pred_svm)\n",
        "print(\"SVM Classifier Accuracy:\", accuracy_svm)\n",
        "\n",
        "# Confusion matrix\n",
        "conf_matrix_svm = confusion_matrix(y_test, y_pred_svm)\n",
        "print(\"SVM Classifier Confusion Matrix:\")\n",
        "print(conf_matrix_svm)\n"
      ]
    },
    {
      "cell_type": "code",
      "source": [
        "# Calculate Precison\n",
        "precison = precison_score(y_test, y_pred)\n",
        "print(\"Precison:\", precison)"
      ],
      "metadata": {
        "colab": {
          "base_uri": "https://localhost:8080/"
        },
        "id": "hDO-ZlMyUjIk",
        "outputId": "2e39f03b-264b-404d-a641-5aaf755a6c47"
      },
      "id": "hDO-ZlMyUjIk",
      "execution_count": 19,
      "outputs": [
        {
          "output_type": "stream",
          "name": "stdout",
          "text": [
            "Precison: 0.9882472923644838\n"
          ]
        }
      ]
    },
    {
      "cell_type": "markdown",
      "id": "858ba0a4-d773-447f-a4a1-c7db6a333f79",
      "metadata": {
        "id": "858ba0a4-d773-447f-a4a1-c7db6a333f79"
      },
      "source": [
        "## Modlel--3 Decision Tree Classifier"
      ]
    },
    {
      "cell_type": "code",
      "execution_count": null,
      "id": "5ccd46d8-8231-4305-98d8-ca6560f8bb2f",
      "metadata": {
        "id": "5ccd46d8-8231-4305-98d8-ca6560f8bb2f",
        "outputId": "dcbc21f7-61d1-46b0-e90d-96c796d17672"
      },
      "outputs": [
        {
          "name": "stdout",
          "output_type": "stream",
          "text": [
            "Decision Tree Classifier Accuracy: 0.962478184991274\n",
            "Decision Tree Classifier Confusion Matrix:\n",
            "[[836  20]\n",
            " [ 23 267]]\n"
          ]
        }
      ],
      "source": [
        "from sklearn.tree import DecisionTreeClassifier\n",
        "\n",
        "# Train the Decision Tree classifier\n",
        "classifier_dt = DecisionTreeClassifier()\n",
        "classifier_dt.fit(X_train, y_train)\n",
        "\n",
        "# Predict labels for the test set\n",
        "y_pred_dt = classifier_dt.predict(X_test)\n",
        "\n",
        "# Calculate accuracy\n",
        "accuracy_dt = accuracy_score(y_test, y_pred_dt)\n",
        "print(\"Decision Tree Classifier Accuracy:\", accuracy_dt)\n",
        "\n",
        "# Confusion matrix\n",
        "conf_matrix_dt = confusion_matrix(y_test, y_pred_dt)\n",
        "print(\"Decision Tree Classifier Confusion Matrix:\")\n",
        "print(conf_matrix_dt)\n"
      ]
    },
    {
      "cell_type": "code",
      "source": [
        "# Calculate Precison\n",
        "precison = precison_score(y_test, y_pred)\n",
        "print(\"Precison:\", precison)"
      ],
      "metadata": {
        "id": "lsFFNb8vUkvd"
      },
      "id": "lsFFNb8vUkvd",
      "execution_count": 18,
      "outputs": []
    },
    {
      "cell_type": "markdown",
      "id": "acd73a7b-a437-486e-969f-f63b5258e9f8",
      "metadata": {
        "id": "acd73a7b-a437-486e-969f-f63b5258e9f8"
      },
      "source": [
        "# Model Selection\n",
        "- Among the three models, Naive Bayes gives the best accuracy and has the fewest false positive predictions. So, it's usually the best choice when you want to get accurate results and avoid false alarms.\n",
        "\n",
        "- However, if your main goal is to minimize false positives (Type I errors), then Support Vector Machine (SVM) is a better option. SVM works well when you want to reduce false positives, even if it means having slightly lower accuracy.\n",
        "\n",
        "- Ultimately, the choice between Naive Bayes and SVM depends on what you care about most. If you want the highest accuracy, go for Naive Bayes. But if minimizing false positives is more important, SVM is the better choice."
      ]
    }
  ],
  "metadata": {
    "kernelspec": {
      "display_name": "Python 3 (ipykernel)",
      "language": "python",
      "name": "python3"
    },
    "language_info": {
      "codemirror_mode": {
        "name": "ipython",
        "version": 3
      },
      "file_extension": ".py",
      "mimetype": "text/x-python",
      "name": "python",
      "nbconvert_exporter": "python",
      "pygments_lexer": "ipython3",
      "version": "3.9.18"
    },
    "colab": {
      "provenance": []
    }
  },
  "nbformat": 4,
  "nbformat_minor": 5
}