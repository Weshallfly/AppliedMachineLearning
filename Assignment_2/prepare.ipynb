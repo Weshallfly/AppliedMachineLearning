{
 "cells": [
  {
   "cell_type": "code",
   "execution_count": 13,
   "id": "13c00308-905b-4124-a4ea-e4f9e451b6ee",
   "metadata": {},
   "outputs": [
    {
     "name": "stderr",
     "output_type": "stream",
     "text": [
      "[nltk_data] Downloading package stopwords to\n",
      "[nltk_data]     C:\\Users\\chaud\\AppData\\Roaming\\nltk_data...\n",
      "[nltk_data]   Unzipping corpora\\stopwords.zip.\n",
      "[nltk_data] Downloading package wordnet to\n",
      "[nltk_data]     C:\\Users\\chaud\\AppData\\Roaming\\nltk_data...\n"
     ]
    }
   ],
   "source": [
    "import pandas as pd\n",
    "import numpy as np\n",
    "import matplotlib.pyplot as plt\n",
    "import csv\n",
    "import re\n",
    "import string\n",
    "from sklearn.model_selection import train_test_split\n",
    "from nltk.corpus import stopwords\n",
    "from nltk.stem import PorterStemmer\n",
    "from nltk.tokenize import word_tokenize\n",
    "from nltk.stem import WordNetLemmatizer\n",
    "import nltk\n",
    "import os\n",
    "nltk.download('stopwords')\n",
    "nltk.download('wordnet')\n",
    "random_state=24"
   ]
  },
  {
   "cell_type": "code",
   "execution_count": 3,
   "id": "0db37b32-774c-44cd-a8fd-49b32a5c6197",
   "metadata": {},
   "outputs": [
    {
     "name": "stdout",
     "output_type": "stream",
     "text": [
      "Initialized empty Git repository in C:/Users/chaud/OneDrive/Desktop/Applied ML/Assignment_2/.git/\n"
     ]
    }
   ],
   "source": [
    "!git init"
   ]
  },
  {
   "cell_type": "code",
   "execution_count": 4,
   "id": "2ae59f9f-625d-4c91-8de7-6370694193ae",
   "metadata": {},
   "outputs": [
    {
     "name": "stdout",
     "output_type": "stream",
     "text": [
      "Initialized DVC repository.\n",
      "\n",
      "You can now commit the changes to git.\n",
      "\n",
      "+---------------------------------------------------------------------+\n",
      "|                                                                     |\n",
      "|        DVC has enabled anonymous aggregate usage analytics.         |\n",
      "|     Read the analytics documentation (and how to opt-out) here:     |\n",
      "|             <https://dvc.org/doc/user-guide/analytics>              |\n",
      "|                                                                     |\n",
      "+---------------------------------------------------------------------+\n",
      "\n",
      "What's next?\n",
      "------------\n",
      "- Check out the documentation: <https://dvc.org/doc>\n",
      "- Get help and share ideas: <https://dvc.org/chat>\n",
      "- Star us on GitHub: <https://github.com/iterative/dvc>\n"
     ]
    }
   ],
   "source": [
    "!dvc init"
   ]
  },
  {
   "cell_type": "code",
   "execution_count": 6,
   "id": "a2fdf92b-8904-485c-9046-2190fae59d00",
   "metadata": {},
   "outputs": [],
   "source": [
    "# 1. Load the data\n",
    "raw_messages = pd.read_csv('SMSSpamCollection', sep='\\t', quoting=csv.QUOTE_NONE,names=[\"label\", \"message\"])"
   ]
  },
  {
   "cell_type": "code",
   "execution_count": 7,
   "id": "b43bf0ab-590e-45db-8414-fd9b252e4a37",
   "metadata": {},
   "outputs": [
    {
     "data": {
      "text/html": [
       "<div>\n",
       "<style scoped>\n",
       "    .dataframe tbody tr th:only-of-type {\n",
       "        vertical-align: middle;\n",
       "    }\n",
       "\n",
       "    .dataframe tbody tr th {\n",
       "        vertical-align: top;\n",
       "    }\n",
       "\n",
       "    .dataframe thead th {\n",
       "        text-align: right;\n",
       "    }\n",
       "</style>\n",
       "<table border=\"1\" class=\"dataframe\">\n",
       "  <thead>\n",
       "    <tr style=\"text-align: right;\">\n",
       "      <th></th>\n",
       "      <th>label</th>\n",
       "      <th>message</th>\n",
       "    </tr>\n",
       "  </thead>\n",
       "  <tbody>\n",
       "    <tr>\n",
       "      <th>0</th>\n",
       "      <td>ham</td>\n",
       "      <td>Go until jurong point, crazy.. Available only ...</td>\n",
       "    </tr>\n",
       "    <tr>\n",
       "      <th>1</th>\n",
       "      <td>ham</td>\n",
       "      <td>Ok lar... Joking wif u oni...</td>\n",
       "    </tr>\n",
       "    <tr>\n",
       "      <th>2</th>\n",
       "      <td>spam</td>\n",
       "      <td>Free entry in 2 a wkly comp to win FA Cup fina...</td>\n",
       "    </tr>\n",
       "    <tr>\n",
       "      <th>3</th>\n",
       "      <td>ham</td>\n",
       "      <td>U dun say so early hor... U c already then say...</td>\n",
       "    </tr>\n",
       "    <tr>\n",
       "      <th>4</th>\n",
       "      <td>ham</td>\n",
       "      <td>Nah I don't think he goes to usf, he lives aro...</td>\n",
       "    </tr>\n",
       "  </tbody>\n",
       "</table>\n",
       "</div>"
      ],
      "text/plain": [
       "  label                                            message\n",
       "0   ham  Go until jurong point, crazy.. Available only ...\n",
       "1   ham                      Ok lar... Joking wif u oni...\n",
       "2  spam  Free entry in 2 a wkly comp to win FA Cup fina...\n",
       "3   ham  U dun say so early hor... U c already then say...\n",
       "4   ham  Nah I don't think he goes to usf, he lives aro..."
      ]
     },
     "execution_count": 7,
     "metadata": {},
     "output_type": "execute_result"
    }
   ],
   "source": [
    "raw_messages.head()"
   ]
  },
  {
   "cell_type": "code",
   "execution_count": 9,
   "id": "68e15948-235f-4d5b-b3bb-70928330a77b",
   "metadata": {},
   "outputs": [
    {
     "name": "stdout",
     "output_type": "stream",
     "text": [
      "\n",
      "To track the changes with git, run:\n",
      "\n",
      "\tgit add raw_data.csv.dvc\n",
      "\n",
      "To enable auto staging, run:\n",
      "\n",
      "\tdvc config core.autostage true\n"
     ]
    },
    {
     "name": "stderr",
     "output_type": "stream",
     "text": [
      "\\u280b Checking graph\n",
      "\n"
     ]
    },
    {
     "name": "stdout",
     "output_type": "stream",
     "text": [
      "On branch master\n",
      "Untracked files:\n",
      "  (use \"git add <file>...\" to include in what will be committed)\n",
      "\t.gitignore\n",
      "\t.ipynb_checkpoints/\n",
      "\tSMSSpamCollection\n",
      "\tprepare.ipynb\n",
      "\n",
      "nothing added to commit but untracked files present (use \"git add\" to track)\n"
     ]
    }
   ],
   "source": [
    "# Save the raw data\n",
    "raw_messages.to_csv(\"raw_data.csv\", index=False)\n",
    "\n",
    "# Track the raw data using DVC\n",
    "!dvc add raw_data.csv\n",
    "!git add raw_data.csv.dvc\n",
    "!git commit -m \"Added raw data\""
   ]
  },
  {
   "cell_type": "code",
   "execution_count": 10,
   "id": "72f444de-57ca-41df-b1d5-27770695081f",
   "metadata": {},
   "outputs": [],
   "source": [
    "# Define stop words and stemmer\n",
    "stop_words = set(stopwords.words('english'))\n",
    "lemmatizer = WordNetLemmatizer()"
   ]
  },
  {
   "cell_type": "code",
   "execution_count": 11,
   "id": "995cae19-e671-460a-ba0f-3a7e36ae0324",
   "metadata": {},
   "outputs": [],
   "source": [
    "def preprocess_text(text):\n",
    "    \"\"\"\n",
    "    Clean and preprocess a single text message.\n",
    "    \"\"\"\n",
    "    text = text.lower() # Convert to lowercase\n",
    "    text = re.sub(r'\\d+', '', text)  # Remove numbers\n",
    "    text = text.translate(str.maketrans('', '', string.punctuation)) # Remove punctuation\n",
    "    tokens = word_tokenize(text) # Tokenize words\n",
    "    # Remove stopwords and lemmatize\n",
    "    tokens = [lemmatizer.lemmatize(word) for word in tokens if word not in stop_words]\n",
    "    return ' '.join(tokens)\n",
    "\n",
    "def preprocess_data(data):\n",
    "    \"\"\"\n",
    "    Preprocess the entire dataset.\n",
    "    \"\"\"\n",
    "    data['message'] = data['message'].apply(preprocess_text)\n",
    "    # Encode labels: spam -> 1, ham -> 0\n",
    "    data['label'] = data['label'].map({'spam': 1, 'ham': 0})\n",
    "    return data"
   ]
  },
  {
   "cell_type": "code",
   "execution_count": 14,
   "id": "747cff72-4bdd-40f1-b186-b4c11fb564f2",
   "metadata": {},
   "outputs": [
    {
     "data": {
      "text/html": [
       "<div>\n",
       "<style scoped>\n",
       "    .dataframe tbody tr th:only-of-type {\n",
       "        vertical-align: middle;\n",
       "    }\n",
       "\n",
       "    .dataframe tbody tr th {\n",
       "        vertical-align: top;\n",
       "    }\n",
       "\n",
       "    .dataframe thead th {\n",
       "        text-align: right;\n",
       "    }\n",
       "</style>\n",
       "<table border=\"1\" class=\"dataframe\">\n",
       "  <thead>\n",
       "    <tr style=\"text-align: right;\">\n",
       "      <th></th>\n",
       "      <th>label</th>\n",
       "      <th>message</th>\n",
       "    </tr>\n",
       "  </thead>\n",
       "  <tbody>\n",
       "    <tr>\n",
       "      <th>0</th>\n",
       "      <td>0</td>\n",
       "      <td>go jurong point crazy available bugis n great ...</td>\n",
       "    </tr>\n",
       "    <tr>\n",
       "      <th>1</th>\n",
       "      <td>0</td>\n",
       "      <td>ok lar joking wif u oni</td>\n",
       "    </tr>\n",
       "    <tr>\n",
       "      <th>2</th>\n",
       "      <td>1</td>\n",
       "      <td>free entry wkly comp win fa cup final tkts st ...</td>\n",
       "    </tr>\n",
       "    <tr>\n",
       "      <th>3</th>\n",
       "      <td>0</td>\n",
       "      <td>u dun say early hor u c already say</td>\n",
       "    </tr>\n",
       "    <tr>\n",
       "      <th>4</th>\n",
       "      <td>0</td>\n",
       "      <td>nah dont think go usf life around though</td>\n",
       "    </tr>\n",
       "  </tbody>\n",
       "</table>\n",
       "</div>"
      ],
      "text/plain": [
       "   label                                            message\n",
       "0      0  go jurong point crazy available bugis n great ...\n",
       "1      0                            ok lar joking wif u oni\n",
       "2      1  free entry wkly comp win fa cup final tkts st ...\n",
       "3      0                u dun say early hor u c already say\n",
       "4      0           nah dont think go usf life around though"
      ]
     },
     "execution_count": 14,
     "metadata": {},
     "output_type": "execute_result"
    }
   ],
   "source": [
    "data = preprocess_data(raw_messages)\n",
    "data.head()"
   ]
  },
  {
   "cell_type": "code",
   "execution_count": 15,
   "id": "3fd6e164-a7d2-4aca-8bed-cf5c90f96d1f",
   "metadata": {},
   "outputs": [],
   "source": [
    "X = data['message']\n",
    "y = data['label']"
   ]
  },
  {
   "cell_type": "code",
   "execution_count": 16,
   "id": "217cc7f0-6b1a-4e79-866c-fc206096dd27",
   "metadata": {},
   "outputs": [],
   "source": [
    "def split_and_save_data(X, y, label_column=\"label\", test_size=0.2, val_size=0.1, random_state=24):\n",
    "    \"\"\"\n",
    "    Split the data into train, validation, and test sets, and save them as CSV files.\n",
    "    \"\"\"\n",
    "    #Train-test split\n",
    "    X_train, X_test, y_train, y_test = train_test_split(\n",
    "        X, y, test_size=test_size, random_state=random_state\n",
    "    )\n",
    "    \n",
    "    #Train-validation split\n",
    "    X_train, X_val, y_train, y_val = train_test_split(\n",
    "        X_train, y_train, test_size=val_size, random_state=random_state\n",
    "    )\n",
    "    \n",
    "    train_df = pd.DataFrame(X_train)\n",
    "    train_df['label'] = y_train\n",
    "\n",
    "    test_df = pd.DataFrame(X_test)\n",
    "    test_df['label'] = y_test\n",
    "\n",
    "    val_df = pd.DataFrame(X_val)\n",
    "    val_df['label'] = y_val\n",
    "\n",
    "    train_df.to_csv(f\"./train.csv\", index=False)\n",
    "    test_df.to_csv(f\"./test.csv\", index=False)\n",
    "    val_df.to_csv(f\"./val.csv\", index=False)\n",
    "\n",
    "    print(\"Data splits saved successfully!\")\n"
   ]
  },
  {
   "cell_type": "code",
   "execution_count": 17,
   "id": "f2ec66f7-2fc8-436d-b145-600646b28d03",
   "metadata": {},
   "outputs": [
    {
     "name": "stdout",
     "output_type": "stream",
     "text": [
      "Data splits saved successfully!\n"
     ]
    }
   ],
   "source": [
    "split_and_save_data(X, y, label_column=\"label\", test_size=0.2, val_size=0.1, random_state=24)"
   ]
  },
  {
   "cell_type": "code",
   "execution_count": 19,
   "id": "bd8fa1a7-421d-46e0-a211-575ad463997a",
   "metadata": {},
   "outputs": [
    {
     "name": "stdout",
     "output_type": "stream",
     "text": [
      "\n",
      "To track the changes with git, run:\n",
      "\n",
      "\tgit add val.csv.dvc train.csv.dvc test.csv.dvc\n",
      "\n",
      "To enable auto staging, run:\n",
      "\n",
      "\tdvc config core.autostage true\n"
     ]
    },
    {
     "name": "stderr",
     "output_type": "stream",
     "text": [
      "\\u280b Checking graph\n",
      "\n"
     ]
    },
    {
     "name": "stdout",
     "output_type": "stream",
     "text": [
      "On branch master\n",
      "Untracked files:\n",
      "  (use \"git add <file>...\" to include in what will be committed)\n",
      "\t.gitignore\n",
      "\t.ipynb_checkpoints/\n",
      "\tSMSSpamCollection\n",
      "\tprepare.ipynb\n",
      "\n",
      "nothing added to commit but untracked files present (use \"git add\" to track)\n"
     ]
    }
   ],
   "source": [
    "# Track the new version with DVC\n",
    "!dvc add train.csv val.csv test.csv\n",
    "!git add train.csv.dvc val.csv.dvc test.csv.dvc\n",
    "!git commit -m \"Version 1 of train/validation/test split\""
   ]
  },
  {
   "cell_type": "code",
   "execution_count": 20,
   "id": "edfd129c-88b6-4e3b-9d3d-ae620915b81e",
   "metadata": {},
   "outputs": [
    {
     "name": "stdout",
     "output_type": "stream",
     "text": [
      "Data splits saved successfully!\n"
     ]
    }
   ],
   "source": [
    "# Perform new split with a different random seed\n",
    "split_and_save_data(X, y, label_column=\"label\", test_size=0.2, val_size=0.1, random_state=80)"
   ]
  },
  {
   "cell_type": "code",
   "execution_count": 21,
   "id": "034f982f-7f94-4508-baf1-770e48ef72fa",
   "metadata": {},
   "outputs": [
    {
     "name": "stdout",
     "output_type": "stream",
     "text": [
      "\n",
      "To track the changes with git, run:\n",
      "\n",
      "\tgit add test.csv.dvc val.csv.dvc train.csv.dvc\n",
      "\n",
      "To enable auto staging, run:\n",
      "\n",
      "\tdvc config core.autostage true\n"
     ]
    },
    {
     "name": "stderr",
     "output_type": "stream",
     "text": [
      "\\u280b Checking graph\n",
      "\n"
     ]
    },
    {
     "name": "stdout",
     "output_type": "stream",
     "text": [
      "[master f6dd6c3] Version 2 of train/validation/test split\n",
      " 3 files changed, 6 insertions(+), 6 deletions(-)\n"
     ]
    }
   ],
   "source": [
    "# Track the new version with DVC\n",
    "!dvc add train.csv val.csv test.csv\n",
    "!git add train.csv.dvc val.csv.dvc test.csv.dvc\n",
    "!git commit -m \"Version 2 of train/validation/test split\""
   ]
  },
  {
   "cell_type": "code",
   "execution_count": 22,
   "id": "fe3eb261-3187-46cd-884b-0d0ec50059a6",
   "metadata": {},
   "outputs": [
    {
     "name": "stdout",
     "output_type": "stream",
     "text": [
      "Version 1: class distribution:\n",
      "Train:\n",
      " label\n",
      "0    3487\n",
      "1     526\n",
      "Name: count, dtype: int64\n",
      "Validation:\n",
      " label\n",
      "0    372\n",
      "1     74\n",
      "Name: count, dtype: int64\n",
      "Test:\n",
      " label\n",
      "0    968\n",
      "1    147\n",
      "Name: count, dtype: int64\n"
     ]
    }
   ],
   "source": [
    "# Load and print class distributions\n",
    "train = pd.read_csv(\"train.csv\")\n",
    "val = pd.read_csv(\"val.csv\")\n",
    "test = pd.read_csv(\"test.csv\")\n",
    "\n",
    "print(\"Version 1: class distribution:\")\n",
    "print(\"Train:\\n\", train[\"label\"].value_counts())\n",
    "print(\"Validation:\\n\", val[\"label\"].value_counts())\n",
    "print(\"Test:\\n\", test[\"label\"].value_counts())"
   ]
  },
  {
   "cell_type": "code",
   "execution_count": 23,
   "id": "56c950f5-765b-4f21-bd0c-fcb6365ba4bc",
   "metadata": {},
   "outputs": [],
   "source": [
    "!dvc checkout"
   ]
  },
  {
   "cell_type": "code",
   "execution_count": 24,
   "id": "1955c13e-b780-4465-a68f-8b223d744ea1",
   "metadata": {},
   "outputs": [
    {
     "name": "stdout",
     "output_type": "stream",
     "text": [
      "Version 2: class distribution:\n",
      "Train:\n",
      " label\n",
      "0    3487\n",
      "1     526\n",
      "Name: count, dtype: int64\n",
      "Validation:\n",
      " label\n",
      "0    372\n",
      "1     74\n",
      "Name: count, dtype: int64\n",
      "Test:\n",
      " label\n",
      "0    968\n",
      "1    147\n",
      "Name: count, dtype: int64\n"
     ]
    }
   ],
   "source": [
    "# Load and print class distributions\n",
    "train = pd.read_csv(\"train.csv\")\n",
    "val = pd.read_csv(\"val.csv\")\n",
    "test = pd.read_csv(\"test.csv\")\n",
    "\n",
    "print(\"Version 2: class distribution:\")\n",
    "print(\"Train:\\n\", train[\"label\"].value_counts())\n",
    "print(\"Validation:\\n\", val[\"label\"].value_counts())\n",
    "print(\"Test:\\n\", test[\"label\"].value_counts())"
   ]
  },
  {
   "cell_type": "code",
   "execution_count": null,
   "id": "a72e2acb-2b36-4676-9a75-70dfd430e3a4",
   "metadata": {},
   "outputs": [],
   "source": []
  }
 ],
 "metadata": {
  "kernelspec": {
   "display_name": "Python 3 (ipykernel)",
   "language": "python",
   "name": "python3"
  },
  "language_info": {
   "codemirror_mode": {
    "name": "ipython",
    "version": 3
   },
   "file_extension": ".py",
   "mimetype": "text/x-python",
   "name": "python",
   "nbconvert_exporter": "python",
   "pygments_lexer": "ipython3",
   "version": "3.11.4"
  },
  "widgets": {
   "application/vnd.jupyter.widget-state+json": {
    "state": {},
    "version_major": 2,
    "version_minor": 0
   }
  }
 },
 "nbformat": 4,
 "nbformat_minor": 5
}
